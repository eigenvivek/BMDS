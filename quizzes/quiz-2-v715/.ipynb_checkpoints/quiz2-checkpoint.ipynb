{
 "cells": [
  {
   "cell_type": "markdown",
   "metadata": {},
   "source": [
    "# Quiz 2\n",
    "Vivek Gopalakrishnan | September 11, 2019"
   ]
  },
  {
   "cell_type": "markdown",
   "metadata": {},
   "source": [
    "## Question 1\n",
    "\n",
    "For each patient $i=1,...,n$, the feature $X_i$ is encoded as follows:\n",
    "\n",
    "$$\n",
    "\\begin{align}\n",
    "X_i &= (x_{i1}, x_{i2}, ..., x_{ip}) \\\\\n",
    "&= (\\mathbb{1}(i \\in G_1), \\mathbb{1}(i \\in G_2), ..., \\mathbb{1}(i \\in G_p)) \\\\\n",
    "&\\in \\{e_1, e_2, ..., e_p\\}\n",
    "\\end{align}\n",
    "$$\n",
    "\n",
    "where $\\mathbb{1}(\\cdot)$ is the indicator function. Note, this means the feature vector merely encodes the membership of each subject. \n",
    "\n",
    "For the linear model $\\hat{Y}_i = \\beta \\cdot X_i$, we estimate $\\beta$ by minimizing the sum of squared vertical deviations for all data $\\sum_{i=1}^{n} (Y_i - \\beta \\cdot X_i) ^ 2$. Let us calculate the estimate for $\\hat{\\beta}_k$:\n",
    "\n",
    "$$\n",
    "\\begin{align}\n",
    "\\frac{\\partial}{\\partial \\beta_k} \\sum_{i=1}^{n} (Y_i - \\beta \\cdot X_i)^2\n",
    "&= \\frac{\\partial}{\\partial \\beta_k} \\left( \\sum_{k=1}^{p} \\sum_{i \\in G_k} (Y_i - \\beta_k)^2 \\right) \\\\\n",
    "&= \\frac{\\partial}{\\partial \\beta_k} \\sum_{i \\in G_k} (Y_i - \\beta_k)^2 \\\\\n",
    "&= \\sum_{i \\in G_k} 2(Y_i - \\beta_k)(0-1) \\\\\n",
    "&= \\sum_{i \\in G_k} (\\beta_k - Y_i) = 0 \\,.\n",
    "\\end{align}\n",
    "$$\n",
    "\n",
    "Now we can solve for $\\hat{\\beta}_k$:\n",
    "\n",
    "$$\n",
    "\\begin{align}\n",
    "\\sum_{i \\in G_k} \\beta_k &= \\sum_{i \\in G_k} Y_i \\\\\n",
    "\\hat{\\beta}_k \\bigm| G_k \\bigm| &= \\sum_{i \\in G_k} Y_i \\\\\n",
    "\\hat{\\beta}_k &= \\frac{\\sum_{i \\in G_k} Y_i}{\\bigm| G_k \\bigm|} = \\bar{Y}^{(k)} \\,.\n",
    "\\end{align}\n",
    "$$\n",
    "\n",
    "(Note: $\\bigm| G_k \\bigm|$ represents the cardinality of $G_k$).\n",
    "\n",
    "Then for any subject in group $G_k$, the predicted value of $Y$ is $\\hat{\\beta}_k = \\bar{Y}^{(k)}$. "
   ]
  },
  {
   "cell_type": "markdown",
   "metadata": {},
   "source": [
    "## Question 2"
   ]
  },
  {
   "cell_type": "code",
   "execution_count": 1,
   "metadata": {},
   "outputs": [],
   "source": [
    "import matplotlib.pyplot as plt\n",
    "import numpy as np\n",
    "import pandas as pd\n",
    "from scipy.stats import linregress"
   ]
  },
  {
   "cell_type": "code",
   "execution_count": 2,
   "metadata": {},
   "outputs": [],
   "source": [
    "# Fetch the data frame\n",
    "df = pd.read_csv(\"https://raw.githubusercontent.com/bcaffo/ds4bme_intro/master/data/kirby21.csv\")\n",
    "\n",
    "# Extract the L and R hemisphere volumes\n",
    "diencephalon_l = np.array(df.query(\"roi == 'Diencephalon_L'\")[\"volume\"])\n",
    "diencephalon_r = np.array(df.query(\"roi == 'Diencephalon_R'\")[\"volume\"])"
   ]
  },
  {
   "cell_type": "code",
   "execution_count": 3,
   "metadata": {},
   "outputs": [],
   "source": [
    "# Fit the linear model\n",
    "slope, intercept, r_value, p_value, std_err = linregress(diencephalon_r, diencephalon_l)\n",
    "\n",
    "# Create a function for the model\n",
    "def predict_diencephalon_l_vol(diencephalon_r_vol):\n",
    "    return slope * diencephalon_r_vol + intercept"
   ]
  },
  {
   "cell_type": "code",
   "execution_count": 4,
   "metadata": {},
   "outputs": [
    {
     "data": {
      "image/png": "[encoded data removed]",
      "text/plain": [
       "<Figure size 432x288 with 1 Axes>"
      ]
     },
     "metadata": {
      "needs_background": "light"
     },
     "output_type": "display_data"
    }
   ],
   "source": [
    "# Plot a scatter plot of the data\n",
    "plt.scatter(diencephalon_l, diencephalon_r)\n",
    "\n",
    "# Plot the fitted regression line\n",
    "x = np.linspace(7000, 10250)\n",
    "plt.plot(x, predict_diencephalon_l_vol(x))\n",
    "\n",
    "# Add axis labels\n",
    "plt.xlabel(\"Right Diencephalon Volume\")\n",
    "plt.ylabel(\"Left Diencephalon Volume\")\n",
    "plt.title(\"Right Hemisphere Diencephalon Volume is a good predictor for Left Hemisphere Diencephalon Volume\")\n",
    "plt.show()"
   ]
  },
  {
   "cell_type": "code",
   "execution_count": 5,
   "metadata": {},
   "outputs": [
    {
     "name": "stdout",
     "output_type": "stream",
     "text": [
      "beta_0 = -694.180922147847\n",
      "beta_1 = 1.0675677731655153\n"
     ]
    }
   ],
   "source": [
    "# Report the regression coefficients\n",
    "print(\"beta_0 = {}\".format(intercept))\n",
    "print(\"beta_1 = {}\".format(slope))"
   ]
  },
  {
   "cell_type": "code",
   "execution_count": 6,
   "metadata": {},
   "outputs": [
    {
     "name": "stdout",
     "output_type": "stream",
     "text": [
      "In-sample error rate is 832740.3005383222\n"
     ]
    }
   ],
   "source": [
    "# Report the in-sample error\n",
    "predicted_diencephalon_l = predict_diencephalon_l_vol(diencephalon_r)\n",
    "error = np.linalg.norm(predicted_diencephalon_l - diencephalon_l)**2\n",
    "print(\"In-sample error rate is {}\".format(error))"
   ]
  },
  {
   "cell_type": "markdown",
   "metadata": {},
   "source": [
    "## Question 3\n",
    "\n",
    "I will train a classifer to predict an article of clothing's type from an image using the Fashion MNIST dataset. To do this, I will vectorize each image and use a Random Forest classifer."
   ]
  }
 ],
 "metadata": {
  "kernelspec": {
   "display_name": "Python [conda env:bmds] *",
   "language": "python",
   "name": "conda-env-bmds-py"
  },
  "language_info": {
   "codemirror_mode": {
    "name": "ipython",
    "version": 3
   },
   "file_extension": ".py",
   "mimetype": "text/x-python",
   "name": "python",
   "nbconvert_exporter": "python",
   "pygments_lexer": "ipython3",
   "version": "3.7.3"
  },
  "varInspector": {
   "cols": {
    "lenName": 16,
    "lenType": 16,
    "lenVar": 40
   },
   "kernels_config": {
    "python": {
     "delete_cmd_postfix": "",
     "delete_cmd_prefix": "del ",
     "library": "var_list.py",
     "varRefreshCmd": "print(var_dic_list())"
    },
    "r": {
     "delete_cmd_postfix": ") ",
     "delete_cmd_prefix": "rm(",
     "library": "var_list.r",
     "varRefreshCmd": "cat(var_dic_list()) "
    }
   },
   "types_to_exclude": [
    "module",
    "function",
    "builtin_function_or_method",
    "instance",
    "_Feature"
   ],
   "window_display": false
  }
 },
 "nbformat": 4,
 "nbformat_minor": 2
}
